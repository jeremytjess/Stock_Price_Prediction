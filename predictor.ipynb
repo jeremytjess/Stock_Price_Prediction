{
 "cells": [
  {
   "cell_type": "code",
   "execution_count": 2,
   "metadata": {},
   "outputs": [],
   "source": [
    "from sklearn.model_selection import train_test_split\n",
    "from sklearn.linear_model import LinearRegression\n",
    "from sklearn.model_selection import RandomizedSearchCV,GridSearchCV\n",
    "from sklearn.ensemble import RandomForestRegressor,GradientBoostingRegressor,BaggingRegressor,AdaBoostRegressor\n",
    "from sklearn.neighbors import KNeighborsRegressor\n",
    "from sklearn.preprocessing import MinMaxScaler\n",
    "from sklearn.neural_network import MLPRegressor\n",
    "from sklearn import metrics\n",
    "from tqdm.notebook import tqdm"
   ]
  },
  {
   "cell_type": "code",
   "execution_count": 3,
   "metadata": {},
   "outputs": [],
   "source": [
    "import pandas as pd\n",
    "import numpy as np\n",
    "import matplotlib.pyplot as plt\n",
    "%matplotlib inline"
   ]
  },
  {
   "cell_type": "code",
   "execution_count": 4,
   "metadata": {},
   "outputs": [
    {
     "name": "stderr",
     "output_type": "stream",
     "text": [
      "/usr/local/lib/python3.7/site-packages/pandas_datareader/compat/__init__.py:7: FutureWarning: pandas.util.testing is deprecated. Use the functions in the public API at pandas.testing instead.\n",
      "  from pandas.util.testing import assert_frame_equal\n"
     ]
    }
   ],
   "source": [
    "import pandas_datareader as web\n",
    "from datetime import datetime as dt"
   ]
  },
  {
   "cell_type": "code",
   "execution_count": 5,
   "metadata": {},
   "outputs": [],
   "source": [
    "import requests\n",
    "from bs4 import BeautifulSoup"
   ]
  },
  {
   "cell_type": "markdown",
   "metadata": {},
   "source": [
    "# Scrape Dow Jones Tickers"
   ]
  },
  {
   "cell_type": "code",
   "execution_count": 99,
   "metadata": {},
   "outputs": [],
   "source": [
    "response = requests.get('https://en.wikipedia.org/wiki/Dow_Jones_Industrial_Average')                                                                                                                                                      \n",
    "soup = BeautifulSoup(response.text, 'lxml')                                                                                                                                                                                              \n",
    "dji_tickers = ['^DJI']                                                                                                                                                                                                                             \n",
    "\n",
    "table = soup.find('table',{'id':'constituents'})                                                                                                                                                                                           \n",
    "\n",
    "for row in table.findAll('tr')[1:]:\n",
    "    row_text = row.findAll('td')\n",
    "\n",
    "    ticker = row_text[2].text.replace(\"NYSE:\\xa0\", \"\").replace(\"\\n\",\"\")\n",
    "    \n",
    "    dji_tickers.append(ticker)\n",
    "#dji_tickers"
   ]
  },
  {
   "cell_type": "markdown",
   "metadata": {},
   "source": [
    "# Scrape S&P Tickers"
   ]
  },
  {
   "cell_type": "code",
   "execution_count": 6,
   "metadata": {},
   "outputs": [],
   "source": [
    "response = requests.get('http://en.wikipedia.org/wiki/List_of_S%26P_500_companies')                                                                                                                                                      \n",
    "soup = BeautifulSoup(response.text, 'lxml')                                                                                                                                                                                              \n",
    "sp_tickers = ['^GSPC']                                                                                                                                                                                                                            \n",
    "\n",
    "table = soup.find('table',{'id':'constituents'})                                                                                                                                                                                           \n",
    "\n",
    "for row in table.findAll('tr')[1:]:\n",
    "    row_text = row.findAll('td')\n",
    "    ticker = row_text[0].text.replace(\"\\n\", \"\")                                                                                                                                                                                              \n",
    "    sp_tickers.append(ticker)       "
   ]
  },
  {
   "cell_type": "markdown",
   "metadata": {},
   "source": [
    "# Following Advice From Towards Data Science"
   ]
  },
  {
   "cell_type": "code",
   "execution_count": 7,
   "metadata": {},
   "outputs": [],
   "source": [
    "df = web.DataReader('MSFT','yahoo',dt(2010,4,14),dt.today())"
   ]
  },
  {
   "cell_type": "markdown",
   "metadata": {},
   "source": [
    "# Feature Engineering"
   ]
  },
  {
   "cell_type": "code",
   "execution_count": 9,
   "metadata": {},
   "outputs": [],
   "source": [
    "df['Close'] = df['Adj Close']\n",
    "del df['Adj Close']"
   ]
  },
  {
   "cell_type": "code",
   "execution_count": 11,
   "metadata": {},
   "outputs": [],
   "source": [
    "for sma_period in [5,10,20,50,100,200]:\n",
    "    indicator_name = \"SMA_%d\" % (sma_period)\n",
    "    df[indicator_name] = df['Close'].rolling(sma_period).mean()"
   ]
  },
  {
   "cell_type": "code",
   "execution_count": 13,
   "metadata": {},
   "outputs": [],
   "source": [
    "df['BollingerBand_Up_20_2'] = df['Close'].rolling(20).mean() + 2*df['Close'].rolling(20).std()\n",
    "df['BollingerBand_Down_20_2'] = df['Close'].rolling(20).mean() - 2*df['Close'].rolling(20).std()\n",
    "df['BollingerBand_Up_20_1'] = df['Close'].rolling(20).mean() + df['Close'].rolling(20).std()\n",
    "df['BollingerBand_Down_20_1'] = df['Close'].rolling(20).mean() - df['Close'].rolling(20).std()\n",
    "df['BollingerBand_Up_10_1'] = df['Close'].rolling(10).mean() + df['Close'].rolling(10).std()\n",
    "df['BollingerBand_Down_10_1'] = df['Close'].rolling(10).mean() - df['Close'].rolling(10).std()\n",
    "df['BollingerBand_Up_10_2'] = df['Close'].rolling(10).mean() + 2*df['Close'].rolling(10).std()\n",
    "df['BollingerBand_Down_10_2'] = df['Close'].rolling(10).mean() - 2*df['Close'].rolling(10).std()"
   ]
  },
  {
   "cell_type": "code",
   "execution_count": 14,
   "metadata": {},
   "outputs": [],
   "source": [
    "for channel_period in [5,10,20,50,100,200]:\n",
    "    up_name = \"Donchian_Channel_Up_%d\" % (channel_period)\n",
    "    down_name = \"Donchian_Channel_Down_%d\" % (channel_period)\n",
    "    \n",
    "    df[up_name] = df['High'].rolling(channel_period).max()\n",
    "    df[down_name] = df['Low'].rolling(channel_period).min()"
   ]
  },
  {
   "cell_type": "code",
   "execution_count": 26,
   "metadata": {},
   "outputs": [],
   "source": [
    "newdata = df['Close'].to_frame()\n",
    "for lag in [1,2,3,4,5,6,7,8,9,10]:\n",
    "    shift = lag\n",
    "    shifted = df.shift(shift)\n",
    "    shifted.columns = [str.format(\"%s_shifted_by_%d\" % (column ,shift)) for column in shifted.columns]\n",
    "    newdata = pd.concat((newdata,shifted),axis=1)"
   ]
  },
  {
   "cell_type": "code",
   "execution_count": 27,
   "metadata": {},
   "outputs": [
    {
     "data": {
      "text/html": [
       "<div>\n",
       "<style scoped>\n",
       "    .dataframe tbody tr th:only-of-type {\n",
       "        vertical-align: middle;\n",
       "    }\n",
       "\n",
       "    .dataframe tbody tr th {\n",
       "        vertical-align: top;\n",
       "    }\n",
       "\n",
       "    .dataframe thead th {\n",
       "        text-align: right;\n",
       "    }\n",
       "</style>\n",
       "<table border=\"1\" class=\"dataframe\">\n",
       "  <thead>\n",
       "    <tr style=\"text-align: right;\">\n",
       "      <th></th>\n",
       "      <th>Close</th>\n",
       "      <th>High_shifted_by_1</th>\n",
       "      <th>Low_shifted_by_1</th>\n",
       "      <th>Open_shifted_by_1</th>\n",
       "      <th>Close_shifted_by_1</th>\n",
       "      <th>Volume_shifted_by_1</th>\n",
       "      <th>SMA_5_shifted_by_1</th>\n",
       "      <th>SMA_10_shifted_by_1</th>\n",
       "      <th>SMA_20_shifted_by_1</th>\n",
       "      <th>SMA_50_shifted_by_1</th>\n",
       "      <th>...</th>\n",
       "      <th>Donchian_Channel_Up_10_shifted_by_10</th>\n",
       "      <th>Donchian_Channel_Down_10_shifted_by_10</th>\n",
       "      <th>Donchian_Channel_Up_20_shifted_by_10</th>\n",
       "      <th>Donchian_Channel_Down_20_shifted_by_10</th>\n",
       "      <th>Donchian_Channel_Up_50_shifted_by_10</th>\n",
       "      <th>Donchian_Channel_Down_50_shifted_by_10</th>\n",
       "      <th>Donchian_Channel_Up_100_shifted_by_10</th>\n",
       "      <th>Donchian_Channel_Down_100_shifted_by_10</th>\n",
       "      <th>Donchian_Channel_Up_200_shifted_by_10</th>\n",
       "      <th>Donchian_Channel_Down_200_shifted_by_10</th>\n",
       "    </tr>\n",
       "    <tr>\n",
       "      <th>Date</th>\n",
       "      <th></th>\n",
       "      <th></th>\n",
       "      <th></th>\n",
       "      <th></th>\n",
       "      <th></th>\n",
       "      <th></th>\n",
       "      <th></th>\n",
       "      <th></th>\n",
       "      <th></th>\n",
       "      <th></th>\n",
       "      <th></th>\n",
       "      <th></th>\n",
       "      <th></th>\n",
       "      <th></th>\n",
       "      <th></th>\n",
       "      <th></th>\n",
       "      <th></th>\n",
       "      <th></th>\n",
       "      <th></th>\n",
       "      <th></th>\n",
       "      <th></th>\n",
       "    </tr>\n",
       "  </thead>\n",
       "  <tbody>\n",
       "    <tr>\n",
       "      <th>2020-04-07</th>\n",
       "      <td>163.490005</td>\n",
       "      <td>166.500000</td>\n",
       "      <td>157.580002</td>\n",
       "      <td>160.320007</td>\n",
       "      <td>165.270004</td>\n",
       "      <td>67111700.0</td>\n",
       "      <td>156.836002</td>\n",
       "      <td>154.548000</td>\n",
       "      <td>149.817500</td>\n",
       "      <td>164.186871</td>\n",
       "      <td>...</td>\n",
       "      <td>161.910004</td>\n",
       "      <td>132.520004</td>\n",
       "      <td>175.0</td>\n",
       "      <td>132.520004</td>\n",
       "      <td>190.699997</td>\n",
       "      <td>132.520004</td>\n",
       "      <td>190.699997</td>\n",
       "      <td>132.520004</td>\n",
       "      <td>190.699997</td>\n",
       "      <td>130.710007</td>\n",
       "    </tr>\n",
       "    <tr>\n",
       "      <th>2020-04-08</th>\n",
       "      <td>165.130005</td>\n",
       "      <td>170.000000</td>\n",
       "      <td>163.259995</td>\n",
       "      <td>169.589996</td>\n",
       "      <td>163.490005</td>\n",
       "      <td>62769000.0</td>\n",
       "      <td>157.992001</td>\n",
       "      <td>156.063000</td>\n",
       "      <td>149.946001</td>\n",
       "      <td>164.219912</td>\n",
       "      <td>...</td>\n",
       "      <td>161.910004</td>\n",
       "      <td>132.520004</td>\n",
       "      <td>175.0</td>\n",
       "      <td>132.520004</td>\n",
       "      <td>190.699997</td>\n",
       "      <td>132.520004</td>\n",
       "      <td>190.699997</td>\n",
       "      <td>132.520004</td>\n",
       "      <td>190.699997</td>\n",
       "      <td>130.710007</td>\n",
       "    </tr>\n",
       "    <tr>\n",
       "      <th>2020-04-09</th>\n",
       "      <td>165.139999</td>\n",
       "      <td>166.669998</td>\n",
       "      <td>163.500000</td>\n",
       "      <td>165.669998</td>\n",
       "      <td>165.130005</td>\n",
       "      <td>48318200.0</td>\n",
       "      <td>160.596002</td>\n",
       "      <td>157.884001</td>\n",
       "      <td>150.521001</td>\n",
       "      <td>164.222326</td>\n",
       "      <td>...</td>\n",
       "      <td>161.910004</td>\n",
       "      <td>132.520004</td>\n",
       "      <td>175.0</td>\n",
       "      <td>132.520004</td>\n",
       "      <td>190.699997</td>\n",
       "      <td>132.520004</td>\n",
       "      <td>190.699997</td>\n",
       "      <td>132.520004</td>\n",
       "      <td>190.699997</td>\n",
       "      <td>130.710007</td>\n",
       "    </tr>\n",
       "    <tr>\n",
       "      <th>2020-04-13</th>\n",
       "      <td>165.509995</td>\n",
       "      <td>167.369995</td>\n",
       "      <td>163.330002</td>\n",
       "      <td>166.360001</td>\n",
       "      <td>165.139999</td>\n",
       "      <td>51431800.0</td>\n",
       "      <td>162.572003</td>\n",
       "      <td>158.787001</td>\n",
       "      <td>151.825001</td>\n",
       "      <td>164.173481</td>\n",
       "      <td>...</td>\n",
       "      <td>156.660004</td>\n",
       "      <td>132.520004</td>\n",
       "      <td>175.0</td>\n",
       "      <td>132.520004</td>\n",
       "      <td>190.699997</td>\n",
       "      <td>132.520004</td>\n",
       "      <td>190.699997</td>\n",
       "      <td>132.520004</td>\n",
       "      <td>190.699997</td>\n",
       "      <td>130.779999</td>\n",
       "    </tr>\n",
       "    <tr>\n",
       "      <th>2020-04-14</th>\n",
       "      <td>173.699997</td>\n",
       "      <td>165.570007</td>\n",
       "      <td>162.300003</td>\n",
       "      <td>164.350006</td>\n",
       "      <td>165.509995</td>\n",
       "      <td>41814200.0</td>\n",
       "      <td>164.908002</td>\n",
       "      <td>160.368001</td>\n",
       "      <td>152.159000</td>\n",
       "      <td>164.037494</td>\n",
       "      <td>...</td>\n",
       "      <td>160.600006</td>\n",
       "      <td>132.520004</td>\n",
       "      <td>175.0</td>\n",
       "      <td>132.520004</td>\n",
       "      <td>190.699997</td>\n",
       "      <td>132.520004</td>\n",
       "      <td>190.699997</td>\n",
       "      <td>132.520004</td>\n",
       "      <td>190.699997</td>\n",
       "      <td>130.779999</td>\n",
       "    </tr>\n",
       "  </tbody>\n",
       "</table>\n",
       "<p>5 rows × 311 columns</p>\n",
       "</div>"
      ],
      "text/plain": [
       "                 Close  High_shifted_by_1  Low_shifted_by_1  \\\n",
       "Date                                                          \n",
       "2020-04-07  163.490005         166.500000        157.580002   \n",
       "2020-04-08  165.130005         170.000000        163.259995   \n",
       "2020-04-09  165.139999         166.669998        163.500000   \n",
       "2020-04-13  165.509995         167.369995        163.330002   \n",
       "2020-04-14  173.699997         165.570007        162.300003   \n",
       "\n",
       "            Open_shifted_by_1  Close_shifted_by_1  Volume_shifted_by_1  \\\n",
       "Date                                                                     \n",
       "2020-04-07         160.320007          165.270004           67111700.0   \n",
       "2020-04-08         169.589996          163.490005           62769000.0   \n",
       "2020-04-09         165.669998          165.130005           48318200.0   \n",
       "2020-04-13         166.360001          165.139999           51431800.0   \n",
       "2020-04-14         164.350006          165.509995           41814200.0   \n",
       "\n",
       "            SMA_5_shifted_by_1  SMA_10_shifted_by_1  SMA_20_shifted_by_1  \\\n",
       "Date                                                                       \n",
       "2020-04-07          156.836002           154.548000           149.817500   \n",
       "2020-04-08          157.992001           156.063000           149.946001   \n",
       "2020-04-09          160.596002           157.884001           150.521001   \n",
       "2020-04-13          162.572003           158.787001           151.825001   \n",
       "2020-04-14          164.908002           160.368001           152.159000   \n",
       "\n",
       "            SMA_50_shifted_by_1  ...  Donchian_Channel_Up_10_shifted_by_10  \\\n",
       "Date                             ...                                         \n",
       "2020-04-07           164.186871  ...                            161.910004   \n",
       "2020-04-08           164.219912  ...                            161.910004   \n",
       "2020-04-09           164.222326  ...                            161.910004   \n",
       "2020-04-13           164.173481  ...                            156.660004   \n",
       "2020-04-14           164.037494  ...                            160.600006   \n",
       "\n",
       "            Donchian_Channel_Down_10_shifted_by_10  \\\n",
       "Date                                                 \n",
       "2020-04-07                              132.520004   \n",
       "2020-04-08                              132.520004   \n",
       "2020-04-09                              132.520004   \n",
       "2020-04-13                              132.520004   \n",
       "2020-04-14                              132.520004   \n",
       "\n",
       "            Donchian_Channel_Up_20_shifted_by_10  \\\n",
       "Date                                               \n",
       "2020-04-07                                 175.0   \n",
       "2020-04-08                                 175.0   \n",
       "2020-04-09                                 175.0   \n",
       "2020-04-13                                 175.0   \n",
       "2020-04-14                                 175.0   \n",
       "\n",
       "            Donchian_Channel_Down_20_shifted_by_10  \\\n",
       "Date                                                 \n",
       "2020-04-07                              132.520004   \n",
       "2020-04-08                              132.520004   \n",
       "2020-04-09                              132.520004   \n",
       "2020-04-13                              132.520004   \n",
       "2020-04-14                              132.520004   \n",
       "\n",
       "            Donchian_Channel_Up_50_shifted_by_10  \\\n",
       "Date                                               \n",
       "2020-04-07                            190.699997   \n",
       "2020-04-08                            190.699997   \n",
       "2020-04-09                            190.699997   \n",
       "2020-04-13                            190.699997   \n",
       "2020-04-14                            190.699997   \n",
       "\n",
       "            Donchian_Channel_Down_50_shifted_by_10  \\\n",
       "Date                                                 \n",
       "2020-04-07                              132.520004   \n",
       "2020-04-08                              132.520004   \n",
       "2020-04-09                              132.520004   \n",
       "2020-04-13                              132.520004   \n",
       "2020-04-14                              132.520004   \n",
       "\n",
       "            Donchian_Channel_Up_100_shifted_by_10  \\\n",
       "Date                                                \n",
       "2020-04-07                             190.699997   \n",
       "2020-04-08                             190.699997   \n",
       "2020-04-09                             190.699997   \n",
       "2020-04-13                             190.699997   \n",
       "2020-04-14                             190.699997   \n",
       "\n",
       "            Donchian_Channel_Down_100_shifted_by_10  \\\n",
       "Date                                                  \n",
       "2020-04-07                               132.520004   \n",
       "2020-04-08                               132.520004   \n",
       "2020-04-09                               132.520004   \n",
       "2020-04-13                               132.520004   \n",
       "2020-04-14                               132.520004   \n",
       "\n",
       "            Donchian_Channel_Up_200_shifted_by_10  \\\n",
       "Date                                                \n",
       "2020-04-07                             190.699997   \n",
       "2020-04-08                             190.699997   \n",
       "2020-04-09                             190.699997   \n",
       "2020-04-13                             190.699997   \n",
       "2020-04-14                             190.699997   \n",
       "\n",
       "            Donchian_Channel_Down_200_shifted_by_10  \n",
       "Date                                                 \n",
       "2020-04-07                               130.710007  \n",
       "2020-04-08                               130.710007  \n",
       "2020-04-09                               130.710007  \n",
       "2020-04-13                               130.779999  \n",
       "2020-04-14                               130.779999  \n",
       "\n",
       "[5 rows x 311 columns]"
      ]
     },
     "execution_count": 27,
     "metadata": {},
     "output_type": "execute_result"
    }
   ],
   "source": [
    "newdata.tail()"
   ]
  },
  {
   "cell_type": "code",
   "execution_count": 28,
   "metadata": {},
   "outputs": [],
   "source": [
    "forward_lag = 5\n",
    "newdata['target'] = newdata['Close'].shift(-forward_lag)\n",
    "newdata = newdata.drop('Close',axis=1)\n",
    "newdata = newdata.dropna()"
   ]
  },
  {
   "cell_type": "markdown",
   "metadata": {},
   "source": [
    "# Training/Test Data Split"
   ]
  },
  {
   "cell_type": "markdown",
   "metadata": {},
   "source": [
    "## Random Split (not a good choice)"
   ]
  },
  {
   "cell_type": "code",
   "execution_count": 33,
   "metadata": {},
   "outputs": [],
   "source": [
    "# X = newdata.drop(\"target\",axis=1)\n",
    "# y = newdata['target']\n",
    "# X_train, X_test, y_train, y_test = train_test_split(X, y, test_size=0.3, random_state=42)"
   ]
  },
  {
   "cell_type": "markdown",
   "metadata": {},
   "source": [
    "## Time Series Split"
   ]
  },
  {
   "cell_type": "code",
   "execution_count": 115,
   "metadata": {},
   "outputs": [],
   "source": [
    "X = newdata.drop(\"target\",axis=1)\n",
    "y = newdata['target']\n",
    "\n",
    "train_size = int(X.shape[0]*0.7)\n",
    "\n",
    "X_train = X[0:train_size]\n",
    "y_train = y[0:train_size]\n",
    "\n",
    "X_test = X[train_size:]\n",
    "y_test = y[train_size:]"
   ]
  },
  {
   "cell_type": "markdown",
   "metadata": {},
   "source": [
    "## 50 Most Important Features"
   ]
  },
  {
   "cell_type": "code",
   "execution_count": 116,
   "metadata": {},
   "outputs": [],
   "source": [
    "correlations = np.abs(X_train.corrwith(y_train))\n",
    "features =  list(correlations.sort_values(ascending=False)[0:50].index)\n",
    "X_train = X_train[features]\n",
    "X_test = X_test[features]"
   ]
  },
  {
   "cell_type": "markdown",
   "metadata": {},
   "source": [
    "# Metrics Tracking"
   ]
  },
  {
   "cell_type": "code",
   "execution_count": 117,
   "metadata": {},
   "outputs": [],
   "source": [
    "mean_absolute_errors = {}"
   ]
  },
  {
   "cell_type": "markdown",
   "metadata": {},
   "source": [
    "# Models"
   ]
  },
  {
   "cell_type": "markdown",
   "metadata": {},
   "source": [
    "## Linear Regression"
   ]
  },
  {
   "cell_type": "code",
   "execution_count": 118,
   "metadata": {},
   "outputs": [
    {
     "data": {
      "text/plain": [
       "LinearRegression(copy_X=True, fit_intercept=True, n_jobs=None, normalize=False)"
      ]
     },
     "execution_count": 118,
     "metadata": {},
     "output_type": "execute_result"
    }
   ],
   "source": [
    "lr = LinearRegression()\n",
    "lr.fit(X_train,y_train)"
   ]
  },
  {
   "cell_type": "code",
   "execution_count": 119,
   "metadata": {},
   "outputs": [],
   "source": [
    "y_pred = lr.predict(X_test)"
   ]
  },
  {
   "cell_type": "code",
   "execution_count": 120,
   "metadata": {},
   "outputs": [
    {
     "data": {
      "text/plain": [
       "2.971627894753766"
      ]
     },
     "execution_count": 120,
     "metadata": {},
     "output_type": "execute_result"
    }
   ],
   "source": [
    "mar = metrics.mean_absolute_error(y_test,y_pred)\n",
    "mean_absolute_errors['Linear Regression'] = mar\n",
    "mar"
   ]
  },
  {
   "cell_type": "code",
   "execution_count": 121,
   "metadata": {},
   "outputs": [
    {
     "data": {
      "image/png": "[encoded data removed]",
      "text/plain": [
       "<Figure size 432x288 with 1 Axes>"
      ]
     },
     "metadata": {
      "needs_background": "light"
     },
     "output_type": "display_data"
    }
   ],
   "source": [
    "plt.scatter(y_test,y_pred)\n",
    "plt.xlabel(\"Real\")\n",
    "plt.ylabel(\"Predicted\")\n",
    "plt.title(\"Linear regression\")\n",
    "plt.show()"
   ]
  },
  {
   "cell_type": "markdown",
   "metadata": {},
   "source": [
    "# Random Forest"
   ]
  },
  {
   "cell_type": "code",
   "execution_count": 123,
   "metadata": {},
   "outputs": [],
   "source": [
    "rf = RandomizedSearchCV(\n",
    "        RandomForestRegressor(),\n",
    "        param_distributions =  {\n",
    "            'n_estimators':np.arange(10,500,5),\n",
    "            'max_features':np.arange(1,10,1)\n",
    "        },\n",
    "        cv=5, \n",
    "        n_iter = 20,\n",
    "        iid=False,\n",
    "        random_state=0,\n",
    "        refit=True,\n",
    "        scoring=\"neg_mean_absolute_error\",\n",
    "        verbose=True,\n",
    "        n_jobs=-2\n",
    "        )"
   ]
  },
  {
   "cell_type": "code",
   "execution_count": 124,
   "metadata": {},
   "outputs": [
    {
     "name": "stdout",
     "output_type": "stream",
     "text": [
      "Fitting 5 folds for each of 20 candidates, totalling 100 fits\n"
     ]
    },
    {
     "name": "stderr",
     "output_type": "stream",
     "text": [
      "[Parallel(n_jobs=-2)]: Using backend LokyBackend with 11 concurrent workers.\n",
      "[Parallel(n_jobs=-2)]: Done  28 tasks      | elapsed:    3.9s\n",
      "[Parallel(n_jobs=-2)]: Done 100 out of 100 | elapsed:   13.2s finished\n"
     ]
    },
    {
     "data": {
      "text/plain": [
       "RandomizedSearchCV(cv=5, error_score='raise-deprecating',\n",
       "                   estimator=RandomForestRegressor(bootstrap=True,\n",
       "                                                   criterion='mse',\n",
       "                                                   max_depth=None,\n",
       "                                                   max_features='auto',\n",
       "                                                   max_leaf_nodes=None,\n",
       "                                                   min_impurity_decrease=0.0,\n",
       "                                                   min_impurity_split=None,\n",
       "                                                   min_samples_leaf=1,\n",
       "                                                   min_samples_split=2,\n",
       "                                                   min_weight_fraction_leaf=0.0,\n",
       "                                                   n_estimators='warn',\n",
       "                                                   n_jobs=None, oob_score=False,\n",
       "                                                   random_sta...\n",
       "       205, 210, 215, 220, 225, 230, 235, 240, 245, 250, 255, 260, 265,\n",
       "       270, 275, 280, 285, 290, 295, 300, 305, 310, 315, 320, 325, 330,\n",
       "       335, 340, 345, 350, 355, 360, 365, 370, 375, 380, 385, 390, 395,\n",
       "       400, 405, 410, 415, 420, 425, 430, 435, 440, 445, 450, 455, 460,\n",
       "       465, 470, 475, 480, 485, 490, 495])},\n",
       "                   pre_dispatch='2*n_jobs', random_state=0, refit=True,\n",
       "                   return_train_score=False, scoring='neg_mean_absolute_error',\n",
       "                   verbose=True)"
      ]
     },
     "execution_count": 124,
     "metadata": {},
     "output_type": "execute_result"
    }
   ],
   "source": [
    "rf.fit(X_train,y_train)"
   ]
  },
  {
   "cell_type": "code",
   "execution_count": 125,
   "metadata": {},
   "outputs": [
    {
     "data": {
      "text/plain": [
       "{'n_estimators': 310, 'max_features': 1}"
      ]
     },
     "execution_count": 125,
     "metadata": {},
     "output_type": "execute_result"
    }
   ],
   "source": [
    "rf.best_params_"
   ]
  },
  {
   "cell_type": "code",
   "execution_count": 126,
   "metadata": {},
   "outputs": [],
   "source": [
    "y_pred = rf.predict(X_test)"
   ]
  },
  {
   "cell_type": "code",
   "execution_count": 127,
   "metadata": {},
   "outputs": [
    {
     "data": {
      "text/plain": [
       "45.50888969717288"
      ]
     },
     "execution_count": 127,
     "metadata": {},
     "output_type": "execute_result"
    }
   ],
   "source": [
    "mar = metrics.mean_absolute_error(y_test,y_pred)\n",
    "mean_absolute_errors['Random Forest'] = mar\n",
    "mar"
   ]
  },
  {
   "cell_type": "code",
   "execution_count": 128,
   "metadata": {},
   "outputs": [
    {
     "data": {
      "image/png": "[encoded data removed]",
      "text/plain": [
       "<Figure size 432x288 with 1 Axes>"
      ]
     },
     "metadata": {
      "needs_background": "light"
     },
     "output_type": "display_data"
    }
   ],
   "source": [
    "plt.scatter(y_test,y_pred)\n",
    "plt.xlabel(\"Real\")\n",
    "plt.ylabel(\"Predicted\")\n",
    "plt.title(\"Random Forest\")\n",
    "plt.show()"
   ]
  },
  {
   "cell_type": "code",
   "execution_count": 129,
   "metadata": {},
   "outputs": [
    {
     "name": "stdout",
     "output_type": "stream",
     "text": [
      "Fitting 5 folds for each of 20 candidates, totalling 100 fits\n"
     ]
    },
    {
     "name": "stderr",
     "output_type": "stream",
     "text": [
      "[Parallel(n_jobs=-2)]: Using backend LokyBackend with 11 concurrent workers.\n",
      "[Parallel(n_jobs=-2)]: Done  34 tasks      | elapsed:    0.8s\n",
      "[Parallel(n_jobs=-2)]: Done 100 out of 100 | elapsed:    2.4s finished\n"
     ]
    },
    {
     "data": {
      "text/plain": [
       "RandomizedSearchCV(cv=5, error_score='raise-deprecating',\n",
       "                   estimator=GradientBoostingRegressor(alpha=0.9,\n",
       "                                                       criterion='friedman_mse',\n",
       "                                                       init=None,\n",
       "                                                       learning_rate=0.1,\n",
       "                                                       loss='ls', max_depth=3,\n",
       "                                                       max_features=None,\n",
       "                                                       max_leaf_nodes=None,\n",
       "                                                       min_impurity_decrease=0.0,\n",
       "                                                       min_impurity_split=None,\n",
       "                                                       min_samples_leaf=1,\n",
       "                                                       min_samples_split=2,\n",
       "                                                       min_weight_fraction_leaf=0.0,\n",
       "                                                       n_estimators=100,...\n",
       "       205, 210, 215, 220, 225, 230, 235, 240, 245, 250, 255, 260, 265,\n",
       "       270, 275, 280, 285, 290, 295, 300, 305, 310, 315, 320, 325, 330,\n",
       "       335, 340, 345, 350, 355, 360, 365, 370, 375, 380, 385, 390, 395,\n",
       "       400, 405, 410, 415, 420, 425, 430, 435, 440, 445, 450, 455, 460,\n",
       "       465, 470, 475, 480, 485, 490, 495])},\n",
       "                   pre_dispatch='2*n_jobs', random_state=0, refit=True,\n",
       "                   return_train_score=False, scoring='neg_mean_absolute_error',\n",
       "                   verbose=True)"
      ]
     },
     "execution_count": 129,
     "metadata": {},
     "output_type": "execute_result"
    }
   ],
   "source": [
    "gb = RandomizedSearchCV(\n",
    "    GradientBoostingRegressor(),\n",
    "    param_distributions =  {\n",
    "        'n_estimators':np.arange(10,500,5),\n",
    "        'max_features':np.arange(1,10,1)\n",
    "    },\n",
    "    cv=5, \n",
    "    n_iter = 20,\n",
    "    iid=False,\n",
    "    random_state=0,\n",
    "    refit=True,\n",
    "    scoring=\"neg_mean_absolute_error\",\n",
    "    verbose=True,\n",
    "    n_jobs=-2)\n",
    "\n",
    "gb.fit(X_train,y_train)"
   ]
  },
  {
   "cell_type": "code",
   "execution_count": 130,
   "metadata": {},
   "outputs": [
    {
     "data": {
      "text/plain": [
       "{'n_estimators': 85, 'max_features': 8}"
      ]
     },
     "execution_count": 130,
     "metadata": {},
     "output_type": "execute_result"
    }
   ],
   "source": [
    "gb.best_params_"
   ]
  },
  {
   "cell_type": "code",
   "execution_count": 131,
   "metadata": {},
   "outputs": [],
   "source": [
    "y_pred = gb.predict(X_test)"
   ]
  },
  {
   "cell_type": "code",
   "execution_count": 132,
   "metadata": {},
   "outputs": [
    {
     "data": {
      "image/png": "[encoded data removed]",
      "text/plain": [
       "<Figure size 432x288 with 1 Axes>"
      ]
     },
     "metadata": {
      "needs_background": "light"
     },
     "output_type": "display_data"
    }
   ],
   "source": [
    "plt.scatter(y_test,y_pred)\n",
    "plt.xlabel(\"Real\")\n",
    "plt.ylabel(\"Predicted\")\n",
    "plt.title(\"Gradient Boosting\")\n",
    "plt.show()"
   ]
  },
  {
   "cell_type": "code",
   "execution_count": 133,
   "metadata": {},
   "outputs": [
    {
     "data": {
      "text/plain": [
       "46.24066944571564"
      ]
     },
     "execution_count": 133,
     "metadata": {},
     "output_type": "execute_result"
    }
   ],
   "source": [
    "mar = metrics.mean_absolute_error(y_test,y_pred)\n",
    "mean_absolute_errors['Gradient Boosting'] = mar\n",
    "mar"
   ]
  },
  {
   "cell_type": "markdown",
   "metadata": {},
   "source": [
    "# K Nearest Neighbors"
   ]
  },
  {
   "cell_type": "code",
   "execution_count": 134,
   "metadata": {},
   "outputs": [
    {
     "name": "stdout",
     "output_type": "stream",
     "text": [
      "Fitting 5 folds for each of 38 candidates, totalling 190 fits\n"
     ]
    },
    {
     "name": "stderr",
     "output_type": "stream",
     "text": [
      "[Parallel(n_jobs=-2)]: Using backend LokyBackend with 11 concurrent workers.\n",
      "[Parallel(n_jobs=-2)]: Done  34 tasks      | elapsed:    0.2s\n",
      "[Parallel(n_jobs=-2)]: Done 190 out of 190 | elapsed:    0.5s finished\n"
     ]
    },
    {
     "data": {
      "text/plain": [
       "GridSearchCV(cv=5, error_score='raise-deprecating',\n",
       "             estimator=KNeighborsRegressor(algorithm='auto', leaf_size=30,\n",
       "                                           metric='minkowski',\n",
       "                                           metric_params=None, n_jobs=None,\n",
       "                                           n_neighbors=5, p=2,\n",
       "                                           weights='uniform'),\n",
       "             iid=False, n_jobs=-2,\n",
       "             param_grid={'n_neighbors': array([ 1,  2,  3,  4,  5,  6,  7,  8,  9, 10, 11, 12, 13, 14, 15, 16, 17,\n",
       "       18, 19]),\n",
       "                         'weights': ['distance', 'uniform']},\n",
       "             pre_dispatch='2*n_jobs', refit=True, return_train_score=False,\n",
       "             scoring='neg_mean_absolute_error', verbose=True)"
      ]
     },
     "execution_count": 134,
     "metadata": {},
     "output_type": "execute_result"
    }
   ],
   "source": [
    "knn = GridSearchCV(\n",
    "    KNeighborsRegressor(),\n",
    "    param_grid =  {\n",
    "        'n_neighbors':np.arange(1,20,1),\n",
    "        'weights':['distance','uniform']\n",
    "    },\n",
    "    cv=5, \n",
    "    iid=False,\n",
    "    refit=True,\n",
    "    scoring=\"neg_mean_absolute_error\",\n",
    "    verbose=True,\n",
    "    n_jobs=-2)\n",
    "\n",
    "knn.fit(X_train,y_train)"
   ]
  },
  {
   "cell_type": "code",
   "execution_count": 135,
   "metadata": {},
   "outputs": [
    {
     "data": {
      "text/plain": [
       "{'n_neighbors': 19, 'weights': 'uniform'}"
      ]
     },
     "execution_count": 135,
     "metadata": {},
     "output_type": "execute_result"
    }
   ],
   "source": [
    "knn.best_params_"
   ]
  },
  {
   "cell_type": "code",
   "execution_count": 136,
   "metadata": {},
   "outputs": [],
   "source": [
    "y_pred = knn.predict(X_test)"
   ]
  },
  {
   "cell_type": "code",
   "execution_count": 137,
   "metadata": {},
   "outputs": [
    {
     "data": {
      "text/plain": [
       "45.68872109596802"
      ]
     },
     "execution_count": 137,
     "metadata": {},
     "output_type": "execute_result"
    }
   ],
   "source": [
    "mar = metrics.mean_absolute_error(y_test,y_pred)\n",
    "mean_absolute_errors['KNN'] = mar\n",
    "mar"
   ]
  },
  {
   "cell_type": "code",
   "execution_count": 138,
   "metadata": {
    "scrolled": true
   },
   "outputs": [
    {
     "data": {
      "image/png": "[encoded data removed]",
      "text/plain": [
       "<Figure size 432x288 with 1 Axes>"
      ]
     },
     "metadata": {
      "needs_background": "light"
     },
     "output_type": "display_data"
    }
   ],
   "source": [
    "plt.scatter(y_test,y_pred)\n",
    "plt.xlabel(\"Real\")\n",
    "plt.ylabel(\"Predicted\")\n",
    "plt.title(\"K-Nearest Neighbors\")\n",
    "plt.show()"
   ]
  },
  {
   "cell_type": "markdown",
   "metadata": {},
   "source": [
    "# Neural Net"
   ]
  },
  {
   "cell_type": "code",
   "execution_count": 139,
   "metadata": {},
   "outputs": [
    {
     "name": "stdout",
     "output_type": "stream",
     "text": [
      "Fitting 5 folds for each of 20 candidates, totalling 100 fits\n"
     ]
    },
    {
     "name": "stderr",
     "output_type": "stream",
     "text": [
      "[Parallel(n_jobs=-2)]: Using backend LokyBackend with 11 concurrent workers.\n",
      "[Parallel(n_jobs=-2)]: Done  28 tasks      | elapsed:    4.8s\n",
      "[Parallel(n_jobs=-2)]: Done 100 out of 100 | elapsed:   18.2s finished\n"
     ]
    },
    {
     "data": {
      "text/plain": [
       "RandomizedSearchCV(cv=5, error_score='raise-deprecating',\n",
       "                   estimator=MLPRegressor(activation='relu', alpha=0.0001,\n",
       "                                          batch_size='auto', beta_1=0.9,\n",
       "                                          beta_2=0.999, early_stopping=False,\n",
       "                                          epsilon=1e-08,\n",
       "                                          hidden_layer_sizes=(100,),\n",
       "                                          learning_rate='adaptive',\n",
       "                                          learning_rate_init=0.001,\n",
       "                                          max_iter=5000, momentum=0.9,\n",
       "                                          n_iter_no_change=10,\n",
       "                                          nesterovs_momentum=True, power_t=0.5,\n",
       "                                          rand...\n",
       "                   param_distributions={'activation': ['logistic', 'relu'],\n",
       "                                        'hidden_layer_sizes': [(1,), (2,), (3,),\n",
       "                                                               (4,), (5,), (6,),\n",
       "                                                               (7,), (8,), (9,),\n",
       "                                                               (10,), (11,),\n",
       "                                                               (12,), (13,),\n",
       "                                                               (14,), (15,),\n",
       "                                                               (16,), (17,),\n",
       "                                                               (18,), (19,),\n",
       "                                                               (20,), (21,),\n",
       "                                                               (22,), (23,),\n",
       "                                                               (24,), (25,),\n",
       "                                                               (26,), (27,),\n",
       "                                                               (28,), (29,),\n",
       "                                                               (30,), ...]},\n",
       "                   pre_dispatch='2*n_jobs', random_state=0, refit=True,\n",
       "                   return_train_score=False, scoring='neg_mean_absolute_error',\n",
       "                   verbose=True)"
      ]
     },
     "execution_count": 139,
     "metadata": {},
     "output_type": "execute_result"
    }
   ],
   "source": [
    "scaler = MinMaxScaler()\n",
    "scaler.fit(X_train)\n",
    "X_train_scaled = scaler.transform(X_train)\n",
    "\n",
    "nn = RandomizedSearchCV(\n",
    "    MLPRegressor(\n",
    "        max_iter=5000,\n",
    "        learning_rate = 'adaptive',\n",
    "        solver='sgd'\n",
    "    ),\n",
    "    param_distributions =  {\n",
    "        'hidden_layer_sizes':[(x,) for x in np.arange(1,50,1)],\n",
    "         'activation':['logistic','relu']\n",
    "    },\n",
    "    cv=5, \n",
    "    n_iter = 20,\n",
    "    iid=False,\n",
    "    random_state=0,\n",
    "    refit=True,\n",
    "    scoring=\"neg_mean_absolute_error\",\n",
    "    verbose=True,\n",
    "    n_jobs=-2\n",
    "    )\n",
    "\n",
    "nn.fit(X_train_scaled,y_train)"
   ]
  },
  {
   "cell_type": "code",
   "execution_count": 140,
   "metadata": {},
   "outputs": [
    {
     "data": {
      "text/plain": [
       "{'hidden_layer_sizes': (20,), 'activation': 'relu'}"
      ]
     },
     "execution_count": 140,
     "metadata": {},
     "output_type": "execute_result"
    }
   ],
   "source": [
    "nn.best_params_"
   ]
  },
  {
   "cell_type": "code",
   "execution_count": 141,
   "metadata": {},
   "outputs": [
    {
     "data": {
      "text/plain": [
       "3.1524068425604566"
      ]
     },
     "execution_count": 141,
     "metadata": {},
     "output_type": "execute_result"
    }
   ],
   "source": [
    "X_test_scaled = scaler.transform(X_test)\n",
    "y_pred = nn.predict(X_test_scaled)\n",
    "mar = metrics.mean_absolute_error(y_test,y_pred)\n",
    "mean_absolute_errors['Neural Net'] = mar\n",
    "mar"
   ]
  },
  {
   "cell_type": "code",
   "execution_count": 142,
   "metadata": {},
   "outputs": [
    {
     "data": {
      "text/plain": [
       "{'Linear Regression': 2.971627894753766,\n",
       " 'Random Forest': 45.50888969717288,\n",
       " 'Gradient Boosting': 46.24066944571564,\n",
       " 'KNN': 45.68872109596802,\n",
       " 'Neural Net': 3.1524068425604566}"
      ]
     },
     "execution_count": 142,
     "metadata": {},
     "output_type": "execute_result"
    }
   ],
   "source": [
    "mean_absolute_errors"
   ]
  },
  {
   "cell_type": "markdown",
   "metadata": {},
   "source": [
    "## Linear Regression w/ Bagging"
   ]
  },
  {
   "cell_type": "code",
   "execution_count": 145,
   "metadata": {},
   "outputs": [
    {
     "name": "stdout",
     "output_type": "stream",
     "text": [
      "Fitting 5 folds for each of 20 candidates, totalling 100 fits\n"
     ]
    },
    {
     "name": "stderr",
     "output_type": "stream",
     "text": [
      "[Parallel(n_jobs=-2)]: Using backend LokyBackend with 11 concurrent workers.\n",
      "[Parallel(n_jobs=-2)]: Done  28 tasks      | elapsed:    1.4s\n",
      "[Parallel(n_jobs=-2)]: Done 100 out of 100 | elapsed:    5.6s finished\n"
     ]
    },
    {
     "data": {
      "text/plain": [
       "RandomizedSearchCV(cv=5, error_score='raise-deprecating',\n",
       "                   estimator=BaggingRegressor(base_estimator=LinearRegression(copy_X=True,\n",
       "                                                                              fit_intercept=True,\n",
       "                                                                              n_jobs=None,\n",
       "                                                                              normalize=False),\n",
       "                                              bootstrap=True,\n",
       "                                              bootstrap_features=False,\n",
       "                                              max_features=1.0, max_samples=1.0,\n",
       "                                              n_estimators=10, n_jobs=None,\n",
       "                                              oob_score=False,\n",
       "                                              random_state=None, verbose=0,\n",
       "                                              warm_start=False),\n",
       "                   iid=False, n_...\n",
       "       205, 210, 215, 220, 225, 230, 235, 240, 245, 250, 255, 260, 265,\n",
       "       270, 275, 280, 285, 290, 295, 300, 305, 310, 315, 320, 325, 330,\n",
       "       335, 340, 345, 350, 355, 360, 365, 370, 375, 380, 385, 390, 395,\n",
       "       400, 405, 410, 415, 420, 425, 430, 435, 440, 445, 450, 455, 460,\n",
       "       465, 470, 475, 480, 485, 490, 495])},\n",
       "                   pre_dispatch='2*n_jobs', random_state=0, refit=True,\n",
       "                   return_train_score=False, scoring='neg_mean_absolute_error',\n",
       "                   verbose=True)"
      ]
     },
     "execution_count": 145,
     "metadata": {},
     "output_type": "execute_result"
    }
   ],
   "source": [
    "lr_bag = RandomizedSearchCV(\n",
    "    BaggingRegressor(LinearRegression()),\n",
    "    param_distributions =  {\n",
    "        'n_estimators':np.arange(10,500,5),\n",
    "        'max_features':np.arange(1,10,1)\n",
    "    },\n",
    "    cv=5, \n",
    "    n_iter = 20,\n",
    "    iid=False,\n",
    "    random_state=0,\n",
    "    refit=True,\n",
    "          \n",
    "    scoring=\"neg_mean_absolute_error\",\n",
    "    verbose=True,\n",
    "    n_jobs=-2\n",
    "    )\n",
    "\n",
    "lr_bag.fit(X_train,y_train)"
   ]
  },
  {
   "cell_type": "code",
   "execution_count": 146,
   "metadata": {},
   "outputs": [
    {
     "data": {
      "text/plain": [
       "{'n_estimators': 365, 'max_features': 9}"
      ]
     },
     "execution_count": 146,
     "metadata": {},
     "output_type": "execute_result"
    }
   ],
   "source": [
    "lr_bag.best_params_"
   ]
  },
  {
   "cell_type": "code",
   "execution_count": 148,
   "metadata": {},
   "outputs": [
    {
     "data": {
      "text/plain": [
       "2.9975646668112215"
      ]
     },
     "execution_count": 148,
     "metadata": {},
     "output_type": "execute_result"
    }
   ],
   "source": [
    "y_pred = lr_bag.predict(X_test)\n",
    "mar = metrics.mean_absolute_error(y_test,y_pred)\n",
    "mean_absolute_errors['Linear Regression w/ Bagging'] = mar\n",
    "mar"
   ]
  },
  {
   "cell_type": "code",
   "execution_count": 149,
   "metadata": {},
   "outputs": [
    {
     "data": {
      "image/png": "[encoded data removed]",
      "text/plain": [
       "<Figure size 432x288 with 1 Axes>"
      ]
     },
     "metadata": {
      "needs_background": "light"
     },
     "output_type": "display_data"
    }
   ],
   "source": [
    "plt.scatter(y_test,y_pred)\n",
    "plt.xlabel(\"Real\")\n",
    "plt.ylabel(\"Predicted\")\n",
    "plt.title(\"Linear Regression w/Boosting\")\n",
    "plt.show()"
   ]
  },
  {
   "cell_type": "markdown",
   "metadata": {},
   "source": [
    "## Linear Regression w/ Boosting"
   ]
  },
  {
   "cell_type": "code",
   "execution_count": 152,
   "metadata": {},
   "outputs": [
    {
     "name": "stdout",
     "output_type": "stream",
     "text": [
      "Fitting 5 folds for each of 96 candidates, totalling 480 fits\n"
     ]
    },
    {
     "name": "stderr",
     "output_type": "stream",
     "text": [
      "[Parallel(n_jobs=-2)]: Using backend LokyBackend with 11 concurrent workers.\n",
      "[Parallel(n_jobs=-2)]: Done  34 tasks      | elapsed:    0.5s\n",
      "[Parallel(n_jobs=-2)]: Done 334 tasks      | elapsed:    3.0s\n",
      "[Parallel(n_jobs=-2)]: Done 459 out of 480 | elapsed:    4.0s remaining:    0.2s\n",
      "[Parallel(n_jobs=-2)]: Done 480 out of 480 | elapsed:    4.1s finished\n"
     ]
    },
    {
     "data": {
      "text/plain": [
       "GridSearchCV(cv=5, error_score='raise-deprecating',\n",
       "             estimator=AdaBoostRegressor(base_estimator=LinearRegression(copy_X=True,\n",
       "                                                                         fit_intercept=True,\n",
       "                                                                         n_jobs=None,\n",
       "                                                                         normalize=False),\n",
       "                                         learning_rate=1.0, loss='linear',\n",
       "                                         n_estimators=50, random_state=None),\n",
       "             iid=False, n_jobs=-2,\n",
       "             param_grid={'n_estimators': array([ 20,  25,  30,  35,  40,  45,  50,  55,  60,  65,  70,  75,  80,\n",
       "        85,  90,  95, 100, 105, 110...\n",
       "       150, 155, 160, 165, 170, 175, 180, 185, 190, 195, 200, 205, 210,\n",
       "       215, 220, 225, 230, 235, 240, 245, 250, 255, 260, 265, 270, 275,\n",
       "       280, 285, 290, 295, 300, 305, 310, 315, 320, 325, 330, 335, 340,\n",
       "       345, 350, 355, 360, 365, 370, 375, 380, 385, 390, 395, 400, 405,\n",
       "       410, 415, 420, 425, 430, 435, 440, 445, 450, 455, 460, 465, 470,\n",
       "       475, 480, 485, 490, 495])},\n",
       "             pre_dispatch='2*n_jobs', refit=True, return_train_score=False,\n",
       "             scoring='neg_mean_absolute_error', verbose=True)"
      ]
     },
     "execution_count": 152,
     "metadata": {},
     "output_type": "execute_result"
    }
   ],
   "source": [
    "lr_boost = GridSearchCV(\n",
    "    AdaBoostRegressor(LinearRegression()),\n",
    "    param_grid =  {\n",
    "        'n_estimators':np.arange(20,500,5)\n",
    "    },\n",
    "    cv=5, \n",
    "    iid=False,\n",
    "    refit=True,\n",
    "    scoring=\"neg_mean_absolute_error\",\n",
    "    verbose=True,\n",
    "    n_jobs=-2\n",
    "    )\n",
    "\n",
    "lr_boost.fit(X_train,y_train)"
   ]
  },
  {
   "cell_type": "code",
   "execution_count": 153,
   "metadata": {},
   "outputs": [
    {
     "data": {
      "text/plain": [
       "{'n_estimators': 160}"
      ]
     },
     "execution_count": 153,
     "metadata": {},
     "output_type": "execute_result"
    }
   ],
   "source": [
    "lr_boost.best_params_"
   ]
  },
  {
   "cell_type": "code",
   "execution_count": 155,
   "metadata": {},
   "outputs": [
    {
     "data": {
      "text/plain": [
       "3.370315698474024"
      ]
     },
     "execution_count": 155,
     "metadata": {},
     "output_type": "execute_result"
    }
   ],
   "source": [
    "y_pred = lr_boost.predict(X_test)\n",
    "mar = metrics.mean_absolute_error(y_test,y_pred)\n",
    "mean_absolute_errors['Linear Regression w/ Boosting'] = mar\n",
    "mar"
   ]
  },
  {
   "cell_type": "code",
   "execution_count": 156,
   "metadata": {},
   "outputs": [
    {
     "data": {
      "image/png": "[encoded data removed]",
      "text/plain": [
       "<Figure size 432x288 with 1 Axes>"
      ]
     },
     "metadata": {
      "needs_background": "light"
     },
     "output_type": "display_data"
    }
   ],
   "source": [
    "plt.scatter(y_test,y_pred)\n",
    "plt.xlabel(\"Real\")\n",
    "plt.ylabel(\"Predicted\")\n",
    "plt.title(\"Linear Regression w/Boosting\")\n",
    "plt.show()"
   ]
  },
  {
   "cell_type": "code",
   "execution_count": 157,
   "metadata": {},
   "outputs": [
    {
     "data": {
      "text/plain": [
       "{'Linear Regression': 2.971627894753766,\n",
       " 'Random Forest': 45.50888969717288,\n",
       " 'Gradient Boosting': 46.24066944571564,\n",
       " 'KNN': 45.68872109596802,\n",
       " 'Neural Net': 3.1524068425604566,\n",
       " 'Linear Regression w/ Bagging': 2.9975646668112215,\n",
       " 'Linear Regression w/ Boosting': 3.370315698474024}"
      ]
     },
     "execution_count": 157,
     "metadata": {},
     "output_type": "execute_result"
    }
   ],
   "source": [
    "mean_absolute_errors"
   ]
  },
  {
   "cell_type": "markdown",
   "metadata": {},
   "source": [
    "# Evaluate Models on S&P 500 Companies"
   ]
  },
  {
   "cell_type": "code",
   "execution_count": 7,
   "metadata": {},
   "outputs": [],
   "source": [
    "def get_new_models():\n",
    "    lr = LinearRegression()\n",
    "\n",
    "    rf = RandomizedSearchCV(\n",
    "            RandomForestRegressor(),\n",
    "            param_distributions =  {\n",
    "                'n_estimators':np.arange(10,500,5),\n",
    "                'max_features':np.arange(1,10,1)\n",
    "            },\n",
    "            cv=5, \n",
    "            n_iter = 20,\n",
    "            iid=False,\n",
    "            random_state=0,\n",
    "            refit=True,\n",
    "            scoring=\"neg_mean_absolute_error\",\n",
    "            verbose=True,\n",
    "            n_jobs=-2\n",
    "            )\n",
    "\n",
    "    knn = GridSearchCV(\n",
    "        KNeighborsRegressor(),\n",
    "        param_grid =  {\n",
    "            'n_neighbors':np.arange(1,20,1),\n",
    "            'weights':['distance','uniform']\n",
    "        },\n",
    "        cv=5, \n",
    "        iid=False,\n",
    "        refit=True,\n",
    "        scoring=\"neg_mean_absolute_error\",\n",
    "        verbose=True,\n",
    "        n_jobs=-2)\n",
    "\n",
    "    gb = RandomizedSearchCV(\n",
    "        GradientBoostingRegressor(),\n",
    "        param_distributions =  {\n",
    "            'n_estimators':np.arange(10,500,5),\n",
    "            'max_features':np.arange(1,10,1)\n",
    "        },\n",
    "        cv=5, \n",
    "        n_iter = 20,\n",
    "        iid=False,\n",
    "        random_state=0,\n",
    "        refit=True,\n",
    "        scoring=\"neg_mean_absolute_error\",\n",
    "        verbose=True,\n",
    "        n_jobs=-2)\n",
    "\n",
    "    nn = RandomizedSearchCV(\n",
    "        MLPRegressor(\n",
    "            max_iter=5000,\n",
    "            learning_rate = 'adaptive',\n",
    "            solver='sgd'\n",
    "        ),\n",
    "        param_distributions =  {\n",
    "            'hidden_layer_sizes':[(x,) for x in np.arange(1,50,1)],\n",
    "             'activation':['logistic','relu']\n",
    "        },\n",
    "        cv=5, \n",
    "        n_iter = 20,\n",
    "        iid=False,\n",
    "        random_state=0,\n",
    "        refit=True,\n",
    "        scoring=\"neg_mean_absolute_error\",\n",
    "        verbose=True,\n",
    "        n_jobs=-2\n",
    "        )\n",
    "\n",
    "    lr_bag = RandomizedSearchCV(\n",
    "        BaggingRegressor(LinearRegression()),\n",
    "        param_distributions =  {\n",
    "            'n_estimators':np.arange(10,500,5),\n",
    "            'max_features':np.arange(1,10,1)\n",
    "        },\n",
    "        cv=5, \n",
    "        n_iter = 20,\n",
    "        iid=False,\n",
    "        random_state=0,\n",
    "        refit=True,\n",
    "\n",
    "        scoring=\"neg_mean_absolute_error\",\n",
    "        verbose=True,\n",
    "        n_jobs=-2\n",
    "        )\n",
    "\n",
    "    lr_boost = GridSearchCV(\n",
    "        AdaBoostRegressor(LinearRegression()),\n",
    "        param_grid =  {\n",
    "            'n_estimators':np.arange(20,500,5)\n",
    "        },\n",
    "        cv=5, \n",
    "        iid=False,\n",
    "        refit=True,\n",
    "        scoring=\"neg_mean_absolute_error\",\n",
    "        verbose=True,\n",
    "        n_jobs=-2\n",
    "        )\n",
    "    return [lr,rf,knn,gb,nn,lr_bag,lr_boost]\n"
   ]
  },
  {
   "cell_type": "code",
   "execution_count": 8,
   "metadata": {},
   "outputs": [],
   "source": [
    "def gen_df(ticker,start=dt(2000,1,1),end=dt.today()):\n",
    "    df = web.DataReader(ticker,'yahoo',start,end)\n",
    "\n",
    "    df['Close'] = df['Adj Close']\n",
    "    del df['Adj Close']\n",
    "\n",
    "    for sma_period in [5,10,20,50,100,200]:\n",
    "        indicator_name = \"SMA_%d\" % (sma_period)\n",
    "        df[indicator_name] = df['Close'].rolling(sma_period).mean()\n",
    "\n",
    "    df['BollingerBand_Up_20_2'] = df['Close'].rolling(20).mean() + 2*df['Close'].rolling(20).std()\n",
    "    df['BollingerBand_Down_20_2'] = df['Close'].rolling(20).mean() - 2*df['Close'].rolling(20).std()\n",
    "    df['BollingerBand_Up_20_1'] = df['Close'].rolling(20).mean() + df['Close'].rolling(20).std()\n",
    "    df['BollingerBand_Down_20_1'] = df['Close'].rolling(20).mean() - df['Close'].rolling(20).std()\n",
    "    df['BollingerBand_Up_10_1'] = df['Close'].rolling(10).mean() + df['Close'].rolling(10).std()\n",
    "    df['BollingerBand_Down_10_1'] = df['Close'].rolling(10).mean() - df['Close'].rolling(10).std()\n",
    "    df['BollingerBand_Up_10_2'] = df['Close'].rolling(10).mean() + 2*df['Close'].rolling(10).std()\n",
    "    df['BollingerBand_Down_10_2'] = df['Close'].rolling(10).mean() - 2*df['Close'].rolling(10).std()\n",
    "\n",
    "    for channel_period in [5,10,20,50,100,200]:\n",
    "        up_name = \"Donchian_Channel_Up_%d\" % (channel_period)\n",
    "        down_name = \"Donchian_Channel_Down_%d\" % (channel_period)\n",
    "\n",
    "        df[up_name] = df['High'].rolling(channel_period).max()\n",
    "        df[down_name] = df['Low'].rolling(channel_period).min()\n",
    "\n",
    "    newdata = df['Close'].to_frame()\n",
    "\n",
    "    for lag in [1,2,3,4,5,6,7,8,9,10]:\n",
    "        shift = lag\n",
    "        shifted = df.shift(shift)\n",
    "        shifted.columns = [str.format(\"%s_shifted_by_%d\" % (column ,shift)) for column in shifted.columns]\n",
    "        newdata = pd.concat((newdata,shifted),axis=1)\n",
    "\n",
    "    forward_lag = 5\n",
    "\n",
    "    newdata['target'] = newdata['Close'].shift(-forward_lag)\n",
    "\n",
    "    newdata = newdata.drop('Close',axis=1)\n",
    "    newdata = newdata.dropna()\n",
    "    return newdata"
   ]
  },
  {
   "cell_type": "code",
   "execution_count": 9,
   "metadata": {},
   "outputs": [],
   "source": [
    "def gen_data(df):\n",
    "    X = df.drop(\"target\",axis=1)\n",
    "    y = df['target']\n",
    "\n",
    "    train_size = int(X.shape[0]*0.7)\n",
    "\n",
    "\n",
    "    X_train = X[0:train_size]\n",
    "    y_train = y[0:train_size]\n",
    "\n",
    "\n",
    "    X_test = X[train_size:]\n",
    "    y_test = y[train_size:]\n",
    "    \n",
    "    correlations = np.abs(X_train.corrwith(y_train))\n",
    "    features =  list(correlations.sort_values(ascending=False)[0:50].index)\n",
    "    X_train = X_train[features]\n",
    "    X_test = X_test[features]\n",
    "    \n",
    "    return X_train,X_test,y_train,y_test"
   ]
  },
  {
   "cell_type": "code",
   "execution_count": 11,
   "metadata": {},
   "outputs": [],
   "source": [
    "model_names = ['Linear Regression',\n",
    "               'Random Forest',                              \n",
    "               'KNN',\n",
    "               'Gradient Boosting',\n",
    "               'Neural Net',\n",
    "               'Linear Regression w/ Bagging',\n",
    "               'Linear Regression w/ Boosting']"
   ]
  },
  {
   "cell_type": "code",
   "execution_count": null,
   "metadata": {},
   "outputs": [],
   "source": []
  },
  {
   "cell_type": "code",
   "execution_count": null,
   "metadata": {},
   "outputs": [
    {
     "data": {
      "application/vnd.jupyter.widget-view+json": {
       "model_id": "cccf0d2ba5314aadaa2a971b06fe1fc3",
       "version_major": 2,
       "version_minor": 0
      },
      "text/plain": [
       "HBox(children=(FloatProgress(value=0.0, description='Tickers', max=505.0, style=ProgressStyle(description_widt…"
      ]
     },
     "metadata": {},
     "output_type": "display_data"
    },
    {
     "data": {
      "application/vnd.jupyter.widget-view+json": {
       "model_id": "5b57015af42f43dc808d138f8b3dd930",
       "version_major": 2,
       "version_minor": 0
      },
      "text/plain": [
       "HBox(children=(FloatProgress(value=1.0, bar_style='info', description='Models', max=1.0, style=ProgressStyle(d…"
      ]
     },
     "metadata": {},
     "output_type": "display_data"
    },
    {
     "name": "stdout",
     "output_type": "stream",
     "text": [
      "Fitting 5 folds for each of 20 candidates, totalling 100 fits\n"
     ]
    },
    {
     "name": "stderr",
     "output_type": "stream",
     "text": [
      "[Parallel(n_jobs=-2)]: Using backend LokyBackend with 11 concurrent workers.\n",
      "[Parallel(n_jobs=-2)]: Done  28 tasks      | elapsed:    6.7s\n",
      "[Parallel(n_jobs=-2)]: Done 100 out of 100 | elapsed:   25.5s finished\n"
     ]
    },
    {
     "name": "stdout",
     "output_type": "stream",
     "text": [
      "Fitting 5 folds for each of 38 candidates, totalling 190 fits\n"
     ]
    },
    {
     "name": "stderr",
     "output_type": "stream",
     "text": [
      "[Parallel(n_jobs=-2)]: Using backend LokyBackend with 11 concurrent workers.\n",
      "[Parallel(n_jobs=-2)]: Done  34 tasks      | elapsed:    0.2s\n",
      "[Parallel(n_jobs=-2)]: Done 190 out of 190 | elapsed:    0.8s finished\n",
      "[Parallel(n_jobs=-2)]: Using backend LokyBackend with 11 concurrent workers.\n"
     ]
    },
    {
     "name": "stdout",
     "output_type": "stream",
     "text": [
      "Fitting 5 folds for each of 20 candidates, totalling 100 fits\n"
     ]
    },
    {
     "name": "stderr",
     "output_type": "stream",
     "text": [
      "[Parallel(n_jobs=-2)]: Done  36 tasks      | elapsed:    1.3s\n",
      "[Parallel(n_jobs=-2)]: Done  79 out of 100 | elapsed:    4.1s remaining:    1.1s\n",
      "[Parallel(n_jobs=-2)]: Done 100 out of 100 | elapsed:    4.4s finished\n"
     ]
    },
    {
     "name": "stdout",
     "output_type": "stream",
     "text": [
      "Fitting 5 folds for each of 20 candidates, totalling 100 fits\n"
     ]
    },
    {
     "name": "stderr",
     "output_type": "stream",
     "text": [
      "[Parallel(n_jobs=-2)]: Using backend LokyBackend with 11 concurrent workers.\n"
     ]
    }
   ],
   "source": [
    "mean_absolute_errors = {}\n",
    "ticker_models = {}\n",
    "for ticker in tqdm(sp_tickers,desc='Tickers'):     \n",
    "    try:\n",
    "        errors = {}\n",
    "        models_dict = {}\n",
    "        df = gen_df(ticker)\n",
    "        X_train,X_test,y_train,y_test = gen_data(df)\n",
    "        models = get_new_models()\n",
    "        for i,model in tqdm(enumerate(models),desc='Models'):\n",
    "            if model_names[i] == 'Neural Net':\n",
    "                scaler = MinMaxScaler()\n",
    "                scaler.fit(X_train)\n",
    "                X_train_real = scaler.transform(X_train)\n",
    "                X_test_real = scaler.transform(X_test)\n",
    "            else:\n",
    "                X_train_real = X_train\n",
    "                X_test_real = X_test\n",
    "            model.fit(X_train_real,y_train)\n",
    "            y_pred = model.predict(X_test_real)\n",
    "            mar = metrics.mean_absolute_error(y_test,y_pred)\n",
    "            errors[model_names[i]] = mar       \n",
    "            models_dict[model_names[i]] = model\n",
    "\n",
    "        ticker_models[ticker] = models_dict\n",
    "        mean_absolute_errors[ticker] = errors\n",
    "    except:\n",
    "        sp_tickers.remove(ticker)"
   ]
  },
  {
   "cell_type": "code",
   "execution_count": null,
   "metadata": {},
   "outputs": [],
   "source": [
    "print(mean_absolute_errors)\n",
    "print(ticker_models)"
   ]
  },
  {
   "cell_type": "code",
   "execution_count": null,
   "metadata": {},
   "outputs": [],
   "source": []
  },
  {
   "cell_type": "code",
   "execution_count": null,
   "metadata": {},
   "outputs": [],
   "source": []
  },
  {
   "cell_type": "code",
   "execution_count": null,
   "metadata": {},
   "outputs": [],
   "source": []
  },
  {
   "cell_type": "code",
   "execution_count": null,
   "metadata": {},
   "outputs": [],
   "source": []
  },
  {
   "cell_type": "code",
   "execution_count": null,
   "metadata": {},
   "outputs": [],
   "source": []
  },
  {
   "cell_type": "code",
   "execution_count": null,
   "metadata": {},
   "outputs": [],
   "source": []
  }
 ],
 "metadata": {
  "kernelspec": {
   "display_name": "Python 3",
   "language": "python",
   "name": "python3"
  },
  "language_info": {
   "codemirror_mode": {
    "name": "ipython",
    "version": 3
   },
   "file_extension": ".py",
   "mimetype": "text/x-python",
   "name": "python",
   "nbconvert_exporter": "python",
   "pygments_lexer": "ipython3",
   "version": "3.7.6"
  }
 },
 "nbformat": 4,
 "nbformat_minor": 4
}
